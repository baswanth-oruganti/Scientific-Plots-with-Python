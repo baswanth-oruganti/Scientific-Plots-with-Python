{
 "cells": [
  {
   "cell_type": "code",
   "execution_count": 1,
   "metadata": {},
   "outputs": [],
   "source": [
    "import sys\n",
    "import numpy as np\n",
    "import pandas as pd\n",
    "from matplotlib.pyplot import *\n",
    "import matplotlib.pyplot as plt\n",
    "import seaborn as sns\n",
    "import matplotlib.ticker as ticker\n",
    "from matplotlib.font_manager import FontProperties\n",
    "%matplotlib inline\n",
    "font = FontProperties()\n",
    "\n",
    "matplotlib.rcParams['text.latex.preamble']=r\"\\usepackage{amsmath}\"\n",
    "rcParams['font.family'] = 'sans-serif'\n",
    "\n",
    "font.set_name('Arial')"
   ]
  },
  {
   "cell_type": "code",
   "execution_count": 2,
   "metadata": {},
   "outputs": [],
   "source": [
    "sns.set_style()"
   ]
  },
  {
   "cell_type": "code",
   "execution_count": 3,
   "metadata": {},
   "outputs": [
    {
     "data": {
      "image/png": "[encoded data removed]",
      "text/plain": [
       "<Figure size 360x288 with 1 Axes>"
      ]
     },
     "metadata": {
      "needs_background": "light"
     },
     "output_type": "display_data"
    }
   ],
   "source": [
    "fig,ax=plt.subplots(1,1,figsize=(5,4))"
   ]
  },
  {
   "cell_type": "code",
   "execution_count": 4,
   "metadata": {},
   "outputs": [
    {
     "data": {
      "text/html": [
       "<div>\n",
       "<style scoped>\n",
       "    .dataframe tbody tr th:only-of-type {\n",
       "        vertical-align: middle;\n",
       "    }\n",
       "\n",
       "    .dataframe tbody tr th {\n",
       "        vertical-align: top;\n",
       "    }\n",
       "\n",
       "    .dataframe thead th {\n",
       "        text-align: right;\n",
       "    }\n",
       "</style>\n",
       "<table border=\"1\" class=\"dataframe\">\n",
       "  <thead>\n",
       "    <tr style=\"text-align: right;\">\n",
       "      <th></th>\n",
       "      <th>SA</th>\n",
       "      <th>−log$_{10}$(SA)</th>\n",
       "    </tr>\n",
       "  </thead>\n",
       "  <tbody>\n",
       "    <tr>\n",
       "      <th>0</th>\n",
       "      <td>0.0001</td>\n",
       "      <td>4.0</td>\n",
       "    </tr>\n",
       "    <tr>\n",
       "      <th>1</th>\n",
       "      <td>0.0019</td>\n",
       "      <td>2.7</td>\n",
       "    </tr>\n",
       "    <tr>\n",
       "      <th>2</th>\n",
       "      <td>0.0013</td>\n",
       "      <td>2.9</td>\n",
       "    </tr>\n",
       "    <tr>\n",
       "      <th>3</th>\n",
       "      <td>0.0029</td>\n",
       "      <td>2.5</td>\n",
       "    </tr>\n",
       "  </tbody>\n",
       "</table>\n",
       "</div>"
      ],
      "text/plain": [
       "       SA  −log$_{10}$(SA)\n",
       "0  0.0001              4.0\n",
       "1  0.0019              2.7\n",
       "2  0.0013              2.9\n",
       "3  0.0029              2.5"
      ]
     },
     "execution_count": 4,
     "metadata": {},
     "output_type": "execute_result"
    }
   ],
   "source": [
    "df_ben=pd.read_csv(\"1-benzene/arom-indices/sa/1.txt\",sep=\"\\s+\")\n",
    "df_ben"
   ]
  },
  {
   "cell_type": "code",
   "execution_count": 5,
   "metadata": {},
   "outputs": [
    {
     "data": {
      "text/html": [
       "<div>\n",
       "<style scoped>\n",
       "    .dataframe tbody tr th:only-of-type {\n",
       "        vertical-align: middle;\n",
       "    }\n",
       "\n",
       "    .dataframe tbody tr th {\n",
       "        vertical-align: top;\n",
       "    }\n",
       "\n",
       "    .dataframe thead th {\n",
       "        text-align: right;\n",
       "    }\n",
       "</style>\n",
       "<table border=\"1\" class=\"dataframe\">\n",
       "  <thead>\n",
       "    <tr style=\"text-align: right;\">\n",
       "      <th></th>\n",
       "      <th>SA</th>\n",
       "      <th>−log$_{10}$(SA)</th>\n",
       "    </tr>\n",
       "  </thead>\n",
       "  <tbody>\n",
       "    <tr>\n",
       "      <th>0</th>\n",
       "      <td>0.0163</td>\n",
       "      <td>1.8</td>\n",
       "    </tr>\n",
       "    <tr>\n",
       "      <th>1</th>\n",
       "      <td>0.0008</td>\n",
       "      <td>3.1</td>\n",
       "    </tr>\n",
       "    <tr>\n",
       "      <th>2</th>\n",
       "      <td>0.0014</td>\n",
       "      <td>2.9</td>\n",
       "    </tr>\n",
       "    <tr>\n",
       "      <th>3</th>\n",
       "      <td>0.0040</td>\n",
       "      <td>2.4</td>\n",
       "    </tr>\n",
       "  </tbody>\n",
       "</table>\n",
       "</div>"
      ],
      "text/plain": [
       "       SA  −log$_{10}$(SA)\n",
       "0  0.0163              1.8\n",
       "1  0.0008              3.1\n",
       "2  0.0014              2.9\n",
       "3  0.0040              2.4"
      ]
     },
     "execution_count": 5,
     "metadata": {},
     "output_type": "execute_result"
    }
   ],
   "source": [
    "df_CBD=pd.read_csv(\"2-CBD/arom-indices/sa/2.txt\",sep=\"\\s+\")\n",
    "df_CBD"
   ]
  },
  {
   "cell_type": "code",
   "execution_count": 6,
   "metadata": {},
   "outputs": [
    {
     "data": {
      "text/html": [
       "<div>\n",
       "<style scoped>\n",
       "    .dataframe tbody tr th:only-of-type {\n",
       "        vertical-align: middle;\n",
       "    }\n",
       "\n",
       "    .dataframe tbody tr th {\n",
       "        vertical-align: top;\n",
       "    }\n",
       "\n",
       "    .dataframe thead th {\n",
       "        text-align: right;\n",
       "    }\n",
       "</style>\n",
       "<table border=\"1\" class=\"dataframe\">\n",
       "  <thead>\n",
       "    <tr style=\"text-align: right;\">\n",
       "      <th></th>\n",
       "      <th>SA</th>\n",
       "      <th>−log$_{10}$(SA)</th>\n",
       "    </tr>\n",
       "  </thead>\n",
       "  <tbody>\n",
       "    <tr>\n",
       "      <th>0</th>\n",
       "      <td>0.0078</td>\n",
       "      <td>2.1</td>\n",
       "    </tr>\n",
       "    <tr>\n",
       "      <th>1</th>\n",
       "      <td>0.0025</td>\n",
       "      <td>2.6</td>\n",
       "    </tr>\n",
       "    <tr>\n",
       "      <th>2</th>\n",
       "      <td>0.0033</td>\n",
       "      <td>2.5</td>\n",
       "    </tr>\n",
       "    <tr>\n",
       "      <th>3</th>\n",
       "      <td>0.0012</td>\n",
       "      <td>2.9</td>\n",
       "    </tr>\n",
       "  </tbody>\n",
       "</table>\n",
       "</div>"
      ],
      "text/plain": [
       "       SA  −log$_{10}$(SA)\n",
       "0  0.0078              2.1\n",
       "1  0.0025              2.6\n",
       "2  0.0033              2.5\n",
       "3  0.0012              2.9"
      ]
     },
     "execution_count": 6,
     "metadata": {},
     "output_type": "execute_result"
    }
   ],
   "source": [
    "df_cyclohexene=pd.read_csv(\"3-cyclohexene/arom-indices/sa/3.txt\",sep=\"\\s+\")\n",
    "df_cyclohexene"
   ]
  },
  {
   "cell_type": "code",
   "execution_count": 7,
   "metadata": {},
   "outputs": [
    {
     "data": {
      "text/plain": [
       "['open\\n(S$_{0}$)',\n",
       " 'open\\n(S$_{1}$)',\n",
       " 'open\\n(S$_{1}$ CI)',\n",
       " 'closed\\n(S$_{0}$)',\n",
       " 'open\\n(S$_{0}$)',\n",
       " 'open\\n(S$_{1}$)',\n",
       " 'open\\n(S$_{1}$ CI)',\n",
       " 'closed\\n(S$_{0}$)',\n",
       " 'open\\n(S$_{0}$)',\n",
       " 'open\\n(S$_{1}$)',\n",
       " 'open\\n(S$_{1}$ CI)',\n",
       " 'closed\\n(S$_{0}$)']"
      ]
     },
     "execution_count": 7,
     "metadata": {},
     "output_type": "execute_result"
    }
   ],
   "source": [
    "isomers=[\"open\\n(S$_{0}$)\"]+[\"open\\n(S$_{1}$)\"]+[\"open\\n(S$_{1}$ CI)\"]+[\"closed\\n(S$_{0}$)\"]\n",
    "isomers=isomers*3\n",
    "isomers"
   ]
  },
  {
   "cell_type": "code",
   "execution_count": 8,
   "metadata": {},
   "outputs": [
    {
     "data": {
      "text/plain": [
       "['Benzene',\n",
       " 'Benzene',\n",
       " 'Benzene',\n",
       " 'Benzene',\n",
       " 'Cyclobutadiene',\n",
       " 'Cyclobutadiene',\n",
       " 'Cyclobutadiene',\n",
       " 'Cyclobutadiene',\n",
       " 'Cyclohexene',\n",
       " 'Cyclohexene',\n",
       " 'Cyclohexene',\n",
       " 'Cyclohexene']"
      ]
     },
     "execution_count": 8,
     "metadata": {},
     "output_type": "execute_result"
    }
   ],
   "source": [
    "systems=4*[\"Benzene\"]+ 4*[\"Cyclobutadiene\"]+4*[\"Cyclohexene\"]\n",
    "systems"
   ]
  },
  {
   "cell_type": "code",
   "execution_count": 9,
   "metadata": {},
   "outputs": [
    {
     "data": {
      "text/html": [
       "<div>\n",
       "<style scoped>\n",
       "    .dataframe tbody tr th:only-of-type {\n",
       "        vertical-align: middle;\n",
       "    }\n",
       "\n",
       "    .dataframe tbody tr th {\n",
       "        vertical-align: top;\n",
       "    }\n",
       "\n",
       "    .dataframe thead th {\n",
       "        text-align: right;\n",
       "    }\n",
       "</style>\n",
       "<table border=\"1\" class=\"dataframe\">\n",
       "  <thead>\n",
       "    <tr style=\"text-align: right;\">\n",
       "      <th></th>\n",
       "      <th>Data point</th>\n",
       "      <th>systems</th>\n",
       "      <th>−log$_{10}$(SA)</th>\n",
       "    </tr>\n",
       "  </thead>\n",
       "  <tbody>\n",
       "    <tr>\n",
       "      <th>0</th>\n",
       "      <td>open\\n(S$_{0}$)</td>\n",
       "      <td>Benzene</td>\n",
       "      <td>4.0</td>\n",
       "    </tr>\n",
       "    <tr>\n",
       "      <th>1</th>\n",
       "      <td>open\\n(S$_{1}$)</td>\n",
       "      <td>Benzene</td>\n",
       "      <td>2.7</td>\n",
       "    </tr>\n",
       "    <tr>\n",
       "      <th>2</th>\n",
       "      <td>open\\n(S$_{1}$ CI)</td>\n",
       "      <td>Benzene</td>\n",
       "      <td>2.9</td>\n",
       "    </tr>\n",
       "    <tr>\n",
       "      <th>3</th>\n",
       "      <td>closed\\n(S$_{0}$)</td>\n",
       "      <td>Benzene</td>\n",
       "      <td>2.5</td>\n",
       "    </tr>\n",
       "    <tr>\n",
       "      <th>4</th>\n",
       "      <td>open\\n(S$_{0}$)</td>\n",
       "      <td>Cyclobutadiene</td>\n",
       "      <td>1.8</td>\n",
       "    </tr>\n",
       "    <tr>\n",
       "      <th>5</th>\n",
       "      <td>open\\n(S$_{1}$)</td>\n",
       "      <td>Cyclobutadiene</td>\n",
       "      <td>3.1</td>\n",
       "    </tr>\n",
       "    <tr>\n",
       "      <th>6</th>\n",
       "      <td>open\\n(S$_{1}$ CI)</td>\n",
       "      <td>Cyclobutadiene</td>\n",
       "      <td>2.9</td>\n",
       "    </tr>\n",
       "    <tr>\n",
       "      <th>7</th>\n",
       "      <td>closed\\n(S$_{0}$)</td>\n",
       "      <td>Cyclobutadiene</td>\n",
       "      <td>2.4</td>\n",
       "    </tr>\n",
       "    <tr>\n",
       "      <th>8</th>\n",
       "      <td>open\\n(S$_{0}$)</td>\n",
       "      <td>Cyclohexene</td>\n",
       "      <td>2.1</td>\n",
       "    </tr>\n",
       "    <tr>\n",
       "      <th>9</th>\n",
       "      <td>open\\n(S$_{1}$)</td>\n",
       "      <td>Cyclohexene</td>\n",
       "      <td>2.6</td>\n",
       "    </tr>\n",
       "    <tr>\n",
       "      <th>10</th>\n",
       "      <td>open\\n(S$_{1}$ CI)</td>\n",
       "      <td>Cyclohexene</td>\n",
       "      <td>2.5</td>\n",
       "    </tr>\n",
       "    <tr>\n",
       "      <th>11</th>\n",
       "      <td>closed\\n(S$_{0}$)</td>\n",
       "      <td>Cyclohexene</td>\n",
       "      <td>2.9</td>\n",
       "    </tr>\n",
       "  </tbody>\n",
       "</table>\n",
       "</div>"
      ],
      "text/plain": [
       "            Data point         systems  −log$_{10}$(SA)\n",
       "0      open\\n(S$_{0}$)         Benzene              4.0\n",
       "1      open\\n(S$_{1}$)         Benzene              2.7\n",
       "2   open\\n(S$_{1}$ CI)         Benzene              2.9\n",
       "3    closed\\n(S$_{0}$)         Benzene              2.5\n",
       "4      open\\n(S$_{0}$)  Cyclobutadiene              1.8\n",
       "5      open\\n(S$_{1}$)  Cyclobutadiene              3.1\n",
       "6   open\\n(S$_{1}$ CI)  Cyclobutadiene              2.9\n",
       "7    closed\\n(S$_{0}$)  Cyclobutadiene              2.4\n",
       "8      open\\n(S$_{0}$)     Cyclohexene              2.1\n",
       "9      open\\n(S$_{1}$)     Cyclohexene              2.6\n",
       "10  open\\n(S$_{1}$ CI)     Cyclohexene              2.5\n",
       "11   closed\\n(S$_{0}$)     Cyclohexene              2.9"
      ]
     },
     "execution_count": 9,
     "metadata": {},
     "output_type": "execute_result"
    }
   ],
   "source": [
    "sa_df=pd.DataFrame()\n",
    "sa_df[\"Data point\"]=isomers\n",
    "sa_df[\"systems\"]=systems\n",
    "sa_df[\"−log$_{10}$(SA)\"]=pd.concat([df_ben[\"−log$_{10}$(SA)\"],df_CBD[\"−log$_{10}$(SA)\"],df_cyclohexene[\"−log$_{10}$(SA)\"]],ignore_index=True, sort=False)\n",
    "sa_df"
   ]
  },
  {
   "cell_type": "code",
   "execution_count": 10,
   "metadata": {},
   "outputs": [
    {
     "data": {
      "text/plain": [
       "<matplotlib.axes._subplots.AxesSubplot at 0x7f8324049490>"
      ]
     },
     "execution_count": 10,
     "metadata": {},
     "output_type": "execute_result"
    }
   ],
   "source": [
    "sns.barplot(ax=ax,x=\"Data point\",y=r\"−log$_{10}$(SA)\",hue=\"systems\",data=sa_df)"
   ]
  },
  {
   "cell_type": "code",
   "execution_count": 11,
   "metadata": {},
   "outputs": [
    {
     "data": {
      "image/png": "[encoded data removed]",
      "text/plain": [
       "<Figure size 360x288 with 1 Axes>"
      ]
     },
     "execution_count": 11,
     "metadata": {},
     "output_type": "execute_result"
    }
   ],
   "source": [
    "ax.set_ylim(1.5,4.2)\n",
    "ax.set_xlim(-0.5,3.6)\n",
    "\n",
    "\n",
    "#ax.hlines(y=3.00,xmin=-0.5,xmax=6.3,ls=\"dotted\",color='black')\n",
    "ax.legend(frameon=False,loc=\"upper right\",prop={'size': 8},labelspacing=0.2)\n",
    "#ax.annotate(r\"non-aromatic\"'\\n'\"or antiaromatic\",xy=[2.2,2.62],fontweight='bold',color='r',size=8)\n",
    "#ax.annotate(r\"aromatic\",xy=[2.2,3.3],fontweight='bold',color='r',size=8)\n",
    "ax.yaxis.set_minor_locator(ticker.MultipleLocator(0.25))\n",
    "ax.set_ylabel(r\"−log$_{10}$(SA)\",size=8,labelpad=-1)\n",
    "ax.set_xlabel(\"\")\n",
    "ax.tick_params(axis='both', which='major', labelsize=8)\n",
    "ax.tick_params(axis='both', which='minor', labelsize=7)\n",
    "\n",
    "\n",
    "fig.tight_layout()\n",
    "fig.savefig(\"Fig6.pdf\",dpi=600)\n",
    "fig"
   ]
  },
  {
   "cell_type": "code",
   "execution_count": null,
   "metadata": {},
   "outputs": [],
   "source": []
  }
 ],
 "metadata": {
  "kernelspec": {
   "display_name": "Python 3 (ipykernel)",
   "language": "python",
   "name": "python3"
  },
  "language_info": {
   "codemirror_mode": {
    "name": "ipython",
    "version": 3
   },
   "file_extension": ".py",
   "mimetype": "text/x-python",
   "name": "python",
   "nbconvert_exporter": "python",
   "pygments_lexer": "ipython3",
   "version": "3.9.12"
  }
 },
 "nbformat": 4,
 "nbformat_minor": 2
}
