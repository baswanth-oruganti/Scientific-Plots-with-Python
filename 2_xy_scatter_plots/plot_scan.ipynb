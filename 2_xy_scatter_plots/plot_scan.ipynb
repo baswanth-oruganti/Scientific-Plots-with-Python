{
 "cells": [
  {
   "cell_type": "code",
   "execution_count": 57,
   "metadata": {},
   "outputs": [],
   "source": [
    "import sys\n",
    "import numpy as np\n",
    "import pandas as pd\n",
    "from matplotlib.pyplot import *\n",
    "import matplotlib.pyplot as plt\n",
    "import seaborn as sns\n",
    "import matplotlib.ticker as ticker\n",
    "from matplotlib.font_manager import FontProperties\n",
    "font = FontProperties()\n",
    "matplotlib.rcParams['text.latex.preamble']=r\"\\usepackage{amsmath}\"\n",
    "rcParams['font.family'] = 'sans-serif'\n",
    "font.set_name('Arial')\n",
    "font.set_size(8)"
   ]
  },
  {
   "cell_type": "code",
   "execution_count": 58,
   "metadata": {},
   "outputs": [],
   "source": [
    "sns.set_style()"
   ]
  },
  {
   "cell_type": "code",
   "execution_count": 59,
   "metadata": {},
   "outputs": [
    {
     "data": {
      "image/png": "[encoded data removed]",
      "text/plain": [
       "<Figure size 223.2x324 with 3 Axes>"
      ]
     },
     "metadata": {
      "needs_background": "light"
     },
     "output_type": "display_data"
    }
   ],
   "source": [
    "fig, ax = plt.subplots(3,1,figsize=(3.1,4.5))\n",
    "formatter = ticker.FormatStrFormatter('%1.1f')\n",
    "dir_list=[\"1-benzene\",\"2-CBD\",\"3-cyclohexene\"]"
   ]
  },
  {
   "cell_type": "code",
   "execution_count": 60,
   "metadata": {},
   "outputs": [],
   "source": [
    "for i in range(3):\n",
    "    df1 = pd.read_csv(f\"{dir_list[i]}/static/b3lyp/s1-scan/data-S1.dat\",sep=\"\\s+\",header=None,names=[\"C8-C14\",'S0','S1'])\n",
    "    x1 = df1[\"C8-C14\"]\n",
    "    y1 = df1[\"S0\"]\n",
    "    y2 = df1[\"S1\"]\n",
    "    ax[i].set_xlim([3.75,1.4])\n",
    "    ax[i].set_yticks([0.0,1.0,2.0,3.0,4.0,5.0])\n",
    "    ax[i].set_ylim([-0.3,5.0])\n",
    "    ax[i].yaxis.set_minor_locator(ticker.MultipleLocator(0.5))\n",
    "    ax[i].xaxis.set_minor_locator(ticker.MultipleLocator(0.25))\n",
    "    ax[i].set_xlabel(r\"C1$\\endash$C1' (Å)\",size=8,labelpad=-1)\n",
    "    ax[i].set_ylabel(r'$\\Delta{E}$ (eV)',size=8,labelpad=-1)\n",
    "    ax[i].yaxis.set_major_formatter(formatter)\n",
    "    ax[i].scatter(x1,y2,label=r'S$_1$',color='r')\n",
    "    ax[i].scatter(x1,y1,label=r'S$_0$',color='b')\n",
    "    ax[i].legend(loc=(0.7,0.7),frameon=False,labelspacing=0.005,prop={'size': 8})\n",
    "    ax[i].tick_params(axis='both', which='major', labelsize=8)\n",
    "    ax[i].tick_params(axis='both', which='minor', labelsize=7)"
   ]
  },
  {
   "cell_type": "code",
   "execution_count": 61,
   "metadata": {},
   "outputs": [
    {
     "data": {
      "text/plain": [
       "Text(-0.2, 0.95, '(c)')"
      ]
     },
     "execution_count": 61,
     "metadata": {},
     "output_type": "execute_result"
    }
   ],
   "source": [
    "ax[0].annotate(\"(a)\",xy=(-0.2,0.95),xycoords=\"axes fraction\",size=8)\n",
    "ax[1].annotate(\"(b)\",xy=(-0.2,0.95),xycoords=\"axes fraction\",size=8)\n",
    "ax[2].annotate(\"(c)\",xy=(-0.2,0.95),xycoords=\"axes fraction\",size=8)"
   ]
  },
  {
   "cell_type": "code",
   "execution_count": 62,
   "metadata": {},
   "outputs": [
    {
     "data": {
      "text/plain": [
       "<matplotlib.patches.FancyArrow at 0x7fde31256a10>"
      ]
     },
     "execution_count": 62,
     "metadata": {},
     "output_type": "execute_result"
    }
   ],
   "source": [
    "ax[0].annotate(\"FC\",xy=(3.33,4.4),size=8)\n",
    "ax[0].annotate(r\"1o\",xy=(3.33,-0.2),size=8,fontweight=\"bold\")\n",
    "ax[0].annotate(r\"1c\",xy=(1.6,0.3),size=8,fontweight=\"bold\")\n",
    "ax[0].annotate(r\"h$\\nu$\",xy=(3.53,2.1),size=8)\n",
    "ax[0].arrow(x=3.38,y=0.22,dx=0,dy=3.4,head_width=0.1,head_length=0.5,color='black')\n",
    "\n",
    "ax[1].annotate(\"FC\",xy=(3.55,2.55),size=8)\n",
    "ax[1].annotate(r\"2o\",xy=(3.55,0.2),size=8,fontweight=\"bold\")\n",
    "ax[1].annotate(r\"2c\",xy=(1.725,-0.2),size=8,fontweight=\"bold\")\n",
    "ax[1].annotate(r\"h$\\nu$\",xy=(3.745,1.1),size=8)\n",
    "ax[1].arrow(x=3.61,y=0.6,dx=0,dy=1.1,head_width=0.1,head_length=0.5,color='black')\n",
    "\n",
    "ax[2].annotate(\"FC\",xy=(3.52,4.5),size=8)\n",
    "ax[2].annotate(r\"3o\",xy=(3.52,0.0),size=8,fontweight=\"bold\")\n",
    "ax[2].annotate(r\"3c\",xy=(1.65,-0.15),size=8,fontweight=\"bold\")\n",
    "ax[2].annotate(r\"h$\\nu$\",xy=(3.72,2.1),size=8)\n",
    "ax[2].arrow(x=3.58,y=0.22,dx=0,dy=3.5,head_width=0.1,head_length=0.5,color='black')"
   ]
  },
  {
   "cell_type": "code",
   "execution_count": 63,
   "metadata": {},
   "outputs": [
    {
     "data": {
      "image/png": "[encoded data removed]",
      "text/plain": [
       "<Figure size 223.2x324 with 3 Axes>"
      ]
     },
     "execution_count": 63,
     "metadata": {},
     "output_type": "execute_result"
    }
   ],
   "source": [
    "fig.tight_layout(pad=0.2)\n",
    "fig.subplots_adjust(hspace=0.4)\n",
    "fig.savefig('Fig1.pdf',dpi=600)\n",
    "fig"
   ]
  }
 ],
 "metadata": {
  "kernelspec": {
   "display_name": "Python 3 (ipykernel)",
   "language": "python",
   "name": "python3"
  },
  "language_info": {
   "codemirror_mode": {
    "name": "ipython",
    "version": 3
   },
   "file_extension": ".py",
   "mimetype": "text/x-python",
   "name": "python",
   "nbconvert_exporter": "python",
   "pygments_lexer": "ipython3",
   "version": "3.9.12"
  }
 },
 "nbformat": 4,
 "nbformat_minor": 2
}
