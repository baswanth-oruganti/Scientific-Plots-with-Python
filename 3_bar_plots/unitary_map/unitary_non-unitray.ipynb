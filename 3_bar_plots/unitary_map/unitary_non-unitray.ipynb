{
 "cells": [
  {
   "cell_type": "code",
   "execution_count": 1,
   "metadata": {},
   "outputs": [],
   "source": [
    "import numpy as np\n",
    "import matplotlib.pyplot as plt\n",
    "from scipy.stats import norm"
   ]
  },
  {
   "cell_type": "markdown",
   "metadata": {},
   "source": [
    "Set up the figure and subplots"
   ]
  },
  {
   "cell_type": "code",
   "execution_count": 2,
   "metadata": {},
   "outputs": [
    {
     "data": {
      "image/png": "[encoded data removed]",
      "text/plain": [
       "<Figure size 720x360 with 2 Axes>"
      ]
     },
     "metadata": {
      "needs_background": "light"
     },
     "output_type": "display_data"
    }
   ],
   "source": [
    "fig, axes = plt.subplots(1, 2, figsize=(10, 5))\n",
    "x = np.linspace(-3, 3, 500)"
   ]
  },
  {
   "cell_type": "markdown",
   "metadata": {},
   "source": [
    "Plot for Unitary Transformation (More Skewed Gaussian)<br>\n",
    "Original Gaussian"
   ]
  },
  {
   "cell_type": "code",
   "execution_count": 3,
   "metadata": {},
   "outputs": [],
   "source": [
    "original_gaussian = norm.pdf(x, 0, 1)\n",
    "# More Skewed Gaussian for Unitary Transformation\n",
    "more_skewed_gaussian = norm.pdf(x, 1, 0.6)"
   ]
  },
  {
   "cell_type": "markdown",
   "metadata": {},
   "source": [
    "Plot Original and More Skewed Gaussian with Blue Shading"
   ]
  },
  {
   "cell_type": "code",
   "execution_count": 4,
   "metadata": {},
   "outputs": [
    {
     "data": {
      "text/plain": [
       "<matplotlib.collections.PolyCollection at 0x144099f30730>"
      ]
     },
     "execution_count": 4,
     "metadata": {},
     "output_type": "execute_result"
    }
   ],
   "source": [
    "axes[0].plot(x, original_gaussian, label=\"Original Gaussian\", color='blue', linestyle=\"--\")\n",
    "axes[0].fill_between(x, original_gaussian, color='blue', alpha=0.1)\n",
    "axes[0].plot(x, more_skewed_gaussian, label=\"After Unitary Transformation\", color='green')\n",
    "axes[0].fill_between(x, more_skewed_gaussian, color='green', alpha=0.2)"
   ]
  },
  {
   "cell_type": "markdown",
   "metadata": {},
   "source": [
    "Bars below the curves for Unitary Transformation"
   ]
  },
  {
   "cell_type": "code",
   "execution_count": 5,
   "metadata": {},
   "outputs": [
    {
     "data": {
      "text/plain": [
       "<BarContainer object of 10 artists>"
      ]
     },
     "execution_count": 5,
     "metadata": {},
     "output_type": "execute_result"
    }
   ],
   "source": [
    "axes[0].bar(x[::50], original_gaussian[::50], color='blue', width=0.25, alpha=0.2)\n",
    "axes[0].bar(x[::50], more_skewed_gaussian[::50], color='green', width=0.25, alpha=0.2)"
   ]
  },
  {
   "cell_type": "markdown",
   "metadata": {},
   "source": [
    "Add arrow annotations to indicate recoverability"
   ]
  },
  {
   "cell_type": "code",
   "execution_count": 6,
   "metadata": {},
   "outputs": [
    {
     "data": {
      "text/plain": [
       "Text(-0.25, 0.45, 'Original\\nrecoverable\\nby inverse')"
      ]
     },
     "execution_count": 6,
     "metadata": {},
     "output_type": "execute_result"
    }
   ],
   "source": [
    "axes[0].annotate(\"Original\\nrecoverable\\nby inverse\",\n",
    "                 xy=(1.5, 0.55), xytext=(-0.25, 0.45),\n",
    "                 fontsize=10, ha=\"center\")"
   ]
  },
  {
   "cell_type": "markdown",
   "metadata": {},
   "source": [
    "Set labels and legend"
   ]
  },
  {
   "cell_type": "code",
   "execution_count": 7,
   "metadata": {},
   "outputs": [
    {
     "data": {
      "text/plain": [
       "Text(-2.5, 0.35, 'Area under curve = 1')"
      ]
     },
     "execution_count": 7,
     "metadata": {},
     "output_type": "execute_result"
    }
   ],
   "source": [
    "axes[0].set_title(\"Unitary Transformation (Skewed Redistribution)\")\n",
    "axes[0].legend()\n",
    "axes[0].set_xlabel(\"State\")\n",
    "axes[0].set_ylabel(\"Probability Density\")\n",
    "axes[0].set_ylim([0,1])\n",
    "axes[0].text(-2.5, 0.35, \"Area under curve = 1\", fontsize=10, color=\"black\")"
   ]
  },
  {
   "cell_type": "markdown",
   "metadata": {},
   "source": [
    "Plot for Non-Unitary Transformation (Collapse to Single Outcome)<br>\n",
    "Collapsed state as a Dirac-like spike"
   ]
  },
  {
   "cell_type": "code",
   "execution_count": 8,
   "metadata": {},
   "outputs": [],
   "source": [
    "collapsed = np.zeros_like(x)\n",
    "collapsed[np.abs(x - 1).argmin()] = 1  # Set one point to a spike"
   ]
  },
  {
   "cell_type": "markdown",
   "metadata": {},
   "source": [
    "Plot Gaussian Before Collapse and Dirac Spike"
   ]
  },
  {
   "cell_type": "code",
   "execution_count": 9,
   "metadata": {},
   "outputs": [
    {
     "data": {
      "text/plain": [
       "(0.0, 1.0)"
      ]
     },
     "execution_count": 9,
     "metadata": {},
     "output_type": "execute_result"
    }
   ],
   "source": [
    "axes[1].plot(x, original_gaussian, label=\"Original Gaussian\", color='blue', linestyle=\"--\")\n",
    "axes[1].fill_between(x, original_gaussian, color='blue', alpha=0.1)\n",
    "axes[1].plot(x, collapsed, label=\"After Non-Unitary (Collapse)\", color='red')\n",
    "axes[1].fill_between(x, collapsed, color='red', alpha=0.6)\n",
    "axes[1].set_ylim([0,1])"
   ]
  },
  {
   "cell_type": "markdown",
   "metadata": {},
   "source": [
    "Bars below the curves for Non-Unitary Transformation"
   ]
  },
  {
   "cell_type": "code",
   "execution_count": 10,
   "metadata": {},
   "outputs": [
    {
     "data": {
      "text/plain": [
       "<BarContainer object of 10 artists>"
      ]
     },
     "execution_count": 10,
     "metadata": {},
     "output_type": "execute_result"
    }
   ],
   "source": [
    "axes[1].bar(x[::50], original_gaussian[::50], color='blue', width=0.25, alpha=0.2)\n",
    "axes[1].bar(x[::50], collapsed[::50], color='red', width=0.25, alpha=0.6)"
   ]
  },
  {
   "cell_type": "markdown",
   "metadata": {},
   "source": [
    "Set titles, labels, and legend"
   ]
  },
  {
   "cell_type": "code",
   "execution_count": 11,
   "metadata": {},
   "outputs": [
    {
     "data": {
      "text/plain": [
       "Text(-2.5, 0.35, 'Collapsed to one outcome')"
      ]
     },
     "execution_count": 11,
     "metadata": {},
     "output_type": "execute_result"
    }
   ],
   "source": [
    "axes[1].set_title(\"Non-Unitary Transformation (Collapse)\")\n",
    "axes[1].legend()\n",
    "axes[1].set_xlabel(\"State\")\n",
    "axes[1].set_ylabel(\"Probability Density\")\n",
    "axes[1].text(-2.5, 0.35, \"Collapsed to one outcome\", fontsize=10, color=\"black\")"
   ]
  },
  {
   "cell_type": "code",
   "execution_count": 12,
   "metadata": {},
   "outputs": [
    {
     "data": {
      "image/png": "[encoded data removed]",
      "text/plain": [
       "<Figure size 720x360 with 2 Axes>"
      ]
     },
     "execution_count": 12,
     "metadata": {},
     "output_type": "execute_result"
    }
   ],
   "source": [
    "fig"
   ]
  },
  {
   "cell_type": "code",
   "execution_count": 13,
   "metadata": {},
   "outputs": [],
   "source": [
    "fig.tight_layout()\n",
    "fig.savefig(\"unitary_non-unitary.png\",dpi=600)"
   ]
  },
  {
   "cell_type": "code",
   "execution_count": null,
   "metadata": {},
   "outputs": [],
   "source": []
  }
 ],
 "metadata": {
  "kernelspec": {
   "display_name": "Python 3 (ipykernel)",
   "language": "python",
   "name": "python3"
  },
  "language_info": {
   "codemirror_mode": {
    "name": "ipython",
    "version": 3
   },
   "file_extension": ".py",
   "mimetype": "text/x-python",
   "name": "python",
   "nbconvert_exporter": "python",
   "pygments_lexer": "ipython3",
   "version": "3.9.12"
  }
 },
 "nbformat": 4,
 "nbformat_minor": 2
}
