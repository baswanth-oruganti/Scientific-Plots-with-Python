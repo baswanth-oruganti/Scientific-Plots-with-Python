{
 "cells": [
  {
   "cell_type": "markdown",
   "id": "f36dd892",
   "metadata": {},
   "source": [
    "### First, we have to import all the required modules such as numpy, pandas and matplotlib: \n",
    "1. numpy for performing vector and matrix operations, \n",
    "2. pandas for data analysis\n",
    "3. matplotlib for data visualization\n",
    "4. FontProperties: A class for storing and manipulating font properties."
   ]
  },
  {
   "cell_type": "code",
   "execution_count": 73,
   "id": "0e49e28c",
   "metadata": {},
   "outputs": [],
   "source": [
    "import numpy as np\n",
    "import pandas as pd\n",
    "import matplotlib.pyplot as plt\n",
    "import matplotlib.ticker as ticker\n",
    "from matplotlib.ticker import FormatStrFormatter as formatter"
   ]
  },
  {
   "cell_type": "code",
   "execution_count": 74,
   "id": "9823d426",
   "metadata": {},
   "outputs": [],
   "source": [
    "from matplotlib.font_manager import FontProperties as Font\n",
    "font = Font()\n",
    "font.set_name('Arial')\n",
    "%matplotlib inline"
   ]
  },
  {
   "cell_type": "markdown",
   "id": "c7306516",
   "metadata": {},
   "source": [
    "#### Experimental data written into a file named \"potential.csv\" with the columns named \"volume of K2Cr2O7 (mL)\" and \"potential (mV)\".\n",
    "1. We load this file \"potential.csv' into a pandas dataframe, which is like a excel sheet"
   ]
  },
  {
   "cell_type": "code",
   "execution_count": 75,
   "id": "bb66d027",
   "metadata": {},
   "outputs": [
    {
     "data": {
      "text/html": [
       "<div>\n",
       "<style scoped>\n",
       "    .dataframe tbody tr th:only-of-type {\n",
       "        vertical-align: middle;\n",
       "    }\n",
       "\n",
       "    .dataframe tbody tr th {\n",
       "        vertical-align: top;\n",
       "    }\n",
       "\n",
       "    .dataframe thead th {\n",
       "        text-align: right;\n",
       "    }\n",
       "</style>\n",
       "<table border=\"1\" class=\"dataframe\">\n",
       "  <thead>\n",
       "    <tr style=\"text-align: right;\">\n",
       "      <th></th>\n",
       "      <th>volume of K2Cr2O7 (mL)</th>\n",
       "      <th>potential (mV)</th>\n",
       "    </tr>\n",
       "  </thead>\n",
       "  <tbody>\n",
       "    <tr>\n",
       "      <th>0</th>\n",
       "      <td>0.0</td>\n",
       "      <td>304</td>\n",
       "    </tr>\n",
       "    <tr>\n",
       "      <th>1</th>\n",
       "      <td>0.5</td>\n",
       "      <td>341</td>\n",
       "    </tr>\n",
       "    <tr>\n",
       "      <th>2</th>\n",
       "      <td>1.0</td>\n",
       "      <td>348</td>\n",
       "    </tr>\n",
       "    <tr>\n",
       "      <th>3</th>\n",
       "      <td>1.5</td>\n",
       "      <td>361</td>\n",
       "    </tr>\n",
       "    <tr>\n",
       "      <th>4</th>\n",
       "      <td>2.0</td>\n",
       "      <td>371</td>\n",
       "    </tr>\n",
       "    <tr>\n",
       "      <th>5</th>\n",
       "      <td>2.5</td>\n",
       "      <td>374</td>\n",
       "    </tr>\n",
       "    <tr>\n",
       "      <th>6</th>\n",
       "      <td>3.0</td>\n",
       "      <td>380</td>\n",
       "    </tr>\n",
       "    <tr>\n",
       "      <th>7</th>\n",
       "      <td>3.5</td>\n",
       "      <td>384</td>\n",
       "    </tr>\n",
       "    <tr>\n",
       "      <th>8</th>\n",
       "      <td>4.0</td>\n",
       "      <td>389</td>\n",
       "    </tr>\n",
       "    <tr>\n",
       "      <th>9</th>\n",
       "      <td>4.5</td>\n",
       "      <td>396</td>\n",
       "    </tr>\n",
       "    <tr>\n",
       "      <th>10</th>\n",
       "      <td>5.0</td>\n",
       "      <td>402</td>\n",
       "    </tr>\n",
       "    <tr>\n",
       "      <th>11</th>\n",
       "      <td>5.5</td>\n",
       "      <td>405</td>\n",
       "    </tr>\n",
       "    <tr>\n",
       "      <th>12</th>\n",
       "      <td>6.0</td>\n",
       "      <td>412</td>\n",
       "    </tr>\n",
       "    <tr>\n",
       "      <th>13</th>\n",
       "      <td>6.5</td>\n",
       "      <td>415</td>\n",
       "    </tr>\n",
       "    <tr>\n",
       "      <th>14</th>\n",
       "      <td>7.0</td>\n",
       "      <td>420</td>\n",
       "    </tr>\n",
       "    <tr>\n",
       "      <th>15</th>\n",
       "      <td>7.5</td>\n",
       "      <td>425</td>\n",
       "    </tr>\n",
       "    <tr>\n",
       "      <th>16</th>\n",
       "      <td>8.0</td>\n",
       "      <td>435</td>\n",
       "    </tr>\n",
       "    <tr>\n",
       "      <th>17</th>\n",
       "      <td>8.5</td>\n",
       "      <td>438</td>\n",
       "    </tr>\n",
       "    <tr>\n",
       "      <th>18</th>\n",
       "      <td>9.0</td>\n",
       "      <td>444</td>\n",
       "    </tr>\n",
       "    <tr>\n",
       "      <th>19</th>\n",
       "      <td>9.5</td>\n",
       "      <td>455</td>\n",
       "    </tr>\n",
       "    <tr>\n",
       "      <th>20</th>\n",
       "      <td>10.0</td>\n",
       "      <td>465</td>\n",
       "    </tr>\n",
       "    <tr>\n",
       "      <th>21</th>\n",
       "      <td>10.5</td>\n",
       "      <td>472</td>\n",
       "    </tr>\n",
       "    <tr>\n",
       "      <th>22</th>\n",
       "      <td>11.0</td>\n",
       "      <td>479</td>\n",
       "    </tr>\n",
       "    <tr>\n",
       "      <th>23</th>\n",
       "      <td>11.5</td>\n",
       "      <td>482</td>\n",
       "    </tr>\n",
       "    <tr>\n",
       "      <th>24</th>\n",
       "      <td>12.0</td>\n",
       "      <td>544</td>\n",
       "    </tr>\n",
       "    <tr>\n",
       "      <th>25</th>\n",
       "      <td>12.3</td>\n",
       "      <td>646</td>\n",
       "    </tr>\n",
       "    <tr>\n",
       "      <th>26</th>\n",
       "      <td>12.5</td>\n",
       "      <td>648</td>\n",
       "    </tr>\n",
       "    <tr>\n",
       "      <th>27</th>\n",
       "      <td>12.8</td>\n",
       "      <td>654</td>\n",
       "    </tr>\n",
       "    <tr>\n",
       "      <th>28</th>\n",
       "      <td>13.0</td>\n",
       "      <td>682</td>\n",
       "    </tr>\n",
       "    <tr>\n",
       "      <th>29</th>\n",
       "      <td>13.5</td>\n",
       "      <td>705</td>\n",
       "    </tr>\n",
       "    <tr>\n",
       "      <th>30</th>\n",
       "      <td>13.8</td>\n",
       "      <td>709</td>\n",
       "    </tr>\n",
       "    <tr>\n",
       "      <th>31</th>\n",
       "      <td>14.0</td>\n",
       "      <td>717</td>\n",
       "    </tr>\n",
       "    <tr>\n",
       "      <th>32</th>\n",
       "      <td>14.5</td>\n",
       "      <td>723</td>\n",
       "    </tr>\n",
       "    <tr>\n",
       "      <th>33</th>\n",
       "      <td>15.0</td>\n",
       "      <td>728</td>\n",
       "    </tr>\n",
       "  </tbody>\n",
       "</table>\n",
       "</div>"
      ],
      "text/plain": [
       "    volume of K2Cr2O7 (mL)  potential (mV)\n",
       "0                      0.0             304\n",
       "1                      0.5             341\n",
       "2                      1.0             348\n",
       "3                      1.5             361\n",
       "4                      2.0             371\n",
       "5                      2.5             374\n",
       "6                      3.0             380\n",
       "7                      3.5             384\n",
       "8                      4.0             389\n",
       "9                      4.5             396\n",
       "10                     5.0             402\n",
       "11                     5.5             405\n",
       "12                     6.0             412\n",
       "13                     6.5             415\n",
       "14                     7.0             420\n",
       "15                     7.5             425\n",
       "16                     8.0             435\n",
       "17                     8.5             438\n",
       "18                     9.0             444\n",
       "19                     9.5             455\n",
       "20                    10.0             465\n",
       "21                    10.5             472\n",
       "22                    11.0             479\n",
       "23                    11.5             482\n",
       "24                    12.0             544\n",
       "25                    12.3             646\n",
       "26                    12.5             648\n",
       "27                    12.8             654\n",
       "28                    13.0             682\n",
       "29                    13.5             705\n",
       "30                    13.8             709\n",
       "31                    14.0             717\n",
       "32                    14.5             723\n",
       "33                    15.0             728"
      ]
     },
     "execution_count": 75,
     "metadata": {},
     "output_type": "execute_result"
    }
   ],
   "source": [
    "df_pot=pd.read_csv(\"potential.csv\")\n",
    "df_pot # printing the dataframe"
   ]
  },
  {
   "cell_type": "markdown",
   "id": "890d3cec",
   "metadata": {},
   "source": [
    "### Now we are ready to plot. So, we will first create a frame for plot with size 5 inches width and 5 inches height"
   ]
  },
  {
   "cell_type": "code",
   "execution_count": 76,
   "id": "aebb9d21",
   "metadata": {},
   "outputs": [
    {
     "data": {
      "image/png": "[encoded data removed]",
      "text/plain": [
       "<Figure size 360x360 with 1 Axes>"
      ]
     },
     "metadata": {
      "needs_background": "light"
     },
     "output_type": "display_data"
    }
   ],
   "source": [
    "fig, ax = plt.subplots(nrows=1,ncols=1,figsize=(5,5))"
   ]
  },
  {
   "cell_type": "markdown",
   "id": "d549a5f4",
   "metadata": {},
   "source": [
    "### Define X and Y values before Plotting\n",
    "1. Here x values represent \"volume of K2Cr2O7 (mL)\" and y values are \"potential (mV)\" values\n",
    "2. Plot y versus x using ax.plot command"
   ]
  },
  {
   "cell_type": "code",
   "execution_count": 77,
   "id": "0b0ebf85",
   "metadata": {},
   "outputs": [
    {
     "data": {
      "image/png": "[encoded data removed]",
      "text/plain": [
       "<Figure size 360x360 with 1 Axes>"
      ]
     },
     "execution_count": 77,
     "metadata": {},
     "output_type": "execute_result"
    }
   ],
   "source": [
    "x=df_pot[\"volume of K2Cr2O7 (mL)\"]\n",
    "y=df_pot[\"potential (mV)\"]\n",
    "ax.plot(x,y,color=\"black\",marker=\"o\")\n",
    "fig"
   ]
  },
  {
   "cell_type": "markdown",
   "id": "6aced023",
   "metadata": {},
   "source": [
    "### Axes limits and labels\n",
    "1. Define the axes limits using set_xlim and set_ylim functions\n",
    "2. label the axes using set_xlabel, set_ylabel functions"
   ]
  },
  {
   "cell_type": "code",
   "execution_count": 78,
   "id": "30362dac",
   "metadata": {},
   "outputs": [
    {
     "data": {
      "image/png": "[encoded data removed]",
      "text/plain": [
       "<Figure size 360x360 with 1 Axes>"
      ]
     },
     "execution_count": 78,
     "metadata": {},
     "output_type": "execute_result"
    }
   ],
   "source": [
    "ax.set_xlim(0,16)\n",
    "ax.set_ylim(250,800)\n",
    "ax.set_xlabel('Volume of potassium dichromate (mL)')\n",
    "ax.set_ylabel(\"Potential (mV)\")\n",
    "fig"
   ]
  },
  {
   "cell_type": "markdown",
   "id": "bee69033",
   "metadata": {},
   "source": [
    "### Number Formats and Minor Tick Labels\n",
    "1. Next, we want to have 1 decimal place in the X-axis values and zero decimal places in the Y-axis values. For this purpose we use formatter function.\n",
    "2. We would like to have minor tick lables in the plot. For this purpose, we use set_minor_locator function."
   ]
  },
  {
   "cell_type": "code",
   "execution_count": 79,
   "id": "510345ad",
   "metadata": {},
   "outputs": [
    {
     "data": {
      "image/png": "[encoded data removed]",
      "text/plain": [
       "<Figure size 360x360 with 1 Axes>"
      ]
     },
     "execution_count": 79,
     "metadata": {},
     "output_type": "execute_result"
    }
   ],
   "source": [
    "ax.xaxis.set_major_formatter(formatter('%.1f'))\n",
    "ax.yaxis.set_major_formatter(formatter('%.0f'))\n",
    "\n",
    "ax.xaxis.set_minor_locator(ticker.MultipleLocator(0.5))\n",
    "ax.yaxis.set_minor_locator(ticker.MultipleLocator(50))\n",
    "fig"
   ]
  },
  {
   "cell_type": "markdown",
   "id": "6f19d77b",
   "metadata": {},
   "source": [
    "### Figure layout and saving"
   ]
  },
  {
   "cell_type": "code",
   "execution_count": 80,
   "id": "ae586eaf",
   "metadata": {},
   "outputs": [],
   "source": [
    "fig.tight_layout()\n",
    "fig.savefig('E.pdf',dpi=600)"
   ]
  },
  {
   "cell_type": "markdown",
   "id": "d6113e92",
   "metadata": {},
   "source": [
    "### Now to find out end point, we would like to calculate change in potential (dE) with respect to change in volume (dV)\n",
    "1. For calculating dE and dV we use np.diff() functions\n",
    "2. Then we calculate dE/dV"
   ]
  },
  {
   "cell_type": "code",
   "execution_count": 81,
   "id": "ada5b842",
   "metadata": {},
   "outputs": [
    {
     "data": {
      "text/plain": [
       "array([ 74.  ,  14.  ,  26.  ,  20.  ,   6.  ,  12.  ,   8.  ,  10.  ,\n",
       "        14.  ,  12.  ,   6.  ,  14.  ,   6.  ,  10.  ,  10.  ,  20.  ,\n",
       "         6.  ,  12.  ,  22.  ,  20.  ,  14.  ,  14.  ,   6.  , 124.  ,\n",
       "       340.  ,  10.  ,  20.  , 140.  ,  46.  ,  13.33,  40.  ,  12.  ,\n",
       "        10.  ])"
      ]
     },
     "execution_count": 81,
     "metadata": {},
     "output_type": "execute_result"
    }
   ],
   "source": [
    "dV=np.diff(x)\n",
    "dE=np.diff(y)\n",
    "dE_by_dV=(dE/dV).round(2)\n",
    "dE_by_dV"
   ]
  },
  {
   "cell_type": "markdown",
   "id": "f5878cbf",
   "metadata": {},
   "source": [
    "### Let us create a dataframe to store dV, dE and dE/dV values"
   ]
  },
  {
   "cell_type": "code",
   "execution_count": 82,
   "id": "92ddb351",
   "metadata": {},
   "outputs": [
    {
     "data": {
      "text/html": [
       "<div>\n",
       "<style scoped>\n",
       "    .dataframe tbody tr th:only-of-type {\n",
       "        vertical-align: middle;\n",
       "    }\n",
       "\n",
       "    .dataframe tbody tr th {\n",
       "        vertical-align: top;\n",
       "    }\n",
       "\n",
       "    .dataframe thead th {\n",
       "        text-align: right;\n",
       "    }\n",
       "</style>\n",
       "<table border=\"1\" class=\"dataframe\">\n",
       "  <thead>\n",
       "    <tr style=\"text-align: right;\">\n",
       "      <th></th>\n",
       "      <th>V (mL)</th>\n",
       "      <th>dV (mL)</th>\n",
       "      <th>E (mV)</th>\n",
       "      <th>dE (mV)</th>\n",
       "      <th>dE_by_dV (mV/mL)</th>\n",
       "    </tr>\n",
       "  </thead>\n",
       "  <tbody>\n",
       "    <tr>\n",
       "      <th>1</th>\n",
       "      <td>0.5</td>\n",
       "      <td>0.5</td>\n",
       "      <td>341</td>\n",
       "      <td>37</td>\n",
       "      <td>74.00</td>\n",
       "    </tr>\n",
       "    <tr>\n",
       "      <th>2</th>\n",
       "      <td>1.0</td>\n",
       "      <td>0.5</td>\n",
       "      <td>348</td>\n",
       "      <td>7</td>\n",
       "      <td>14.00</td>\n",
       "    </tr>\n",
       "    <tr>\n",
       "      <th>3</th>\n",
       "      <td>1.5</td>\n",
       "      <td>0.5</td>\n",
       "      <td>361</td>\n",
       "      <td>13</td>\n",
       "      <td>26.00</td>\n",
       "    </tr>\n",
       "    <tr>\n",
       "      <th>4</th>\n",
       "      <td>2.0</td>\n",
       "      <td>0.5</td>\n",
       "      <td>371</td>\n",
       "      <td>10</td>\n",
       "      <td>20.00</td>\n",
       "    </tr>\n",
       "    <tr>\n",
       "      <th>5</th>\n",
       "      <td>2.5</td>\n",
       "      <td>0.5</td>\n",
       "      <td>374</td>\n",
       "      <td>3</td>\n",
       "      <td>6.00</td>\n",
       "    </tr>\n",
       "    <tr>\n",
       "      <th>6</th>\n",
       "      <td>3.0</td>\n",
       "      <td>0.5</td>\n",
       "      <td>380</td>\n",
       "      <td>6</td>\n",
       "      <td>12.00</td>\n",
       "    </tr>\n",
       "    <tr>\n",
       "      <th>7</th>\n",
       "      <td>3.5</td>\n",
       "      <td>0.5</td>\n",
       "      <td>384</td>\n",
       "      <td>4</td>\n",
       "      <td>8.00</td>\n",
       "    </tr>\n",
       "    <tr>\n",
       "      <th>8</th>\n",
       "      <td>4.0</td>\n",
       "      <td>0.5</td>\n",
       "      <td>389</td>\n",
       "      <td>5</td>\n",
       "      <td>10.00</td>\n",
       "    </tr>\n",
       "    <tr>\n",
       "      <th>9</th>\n",
       "      <td>4.5</td>\n",
       "      <td>0.5</td>\n",
       "      <td>396</td>\n",
       "      <td>7</td>\n",
       "      <td>14.00</td>\n",
       "    </tr>\n",
       "    <tr>\n",
       "      <th>10</th>\n",
       "      <td>5.0</td>\n",
       "      <td>0.5</td>\n",
       "      <td>402</td>\n",
       "      <td>6</td>\n",
       "      <td>12.00</td>\n",
       "    </tr>\n",
       "    <tr>\n",
       "      <th>11</th>\n",
       "      <td>5.5</td>\n",
       "      <td>0.5</td>\n",
       "      <td>405</td>\n",
       "      <td>3</td>\n",
       "      <td>6.00</td>\n",
       "    </tr>\n",
       "    <tr>\n",
       "      <th>12</th>\n",
       "      <td>6.0</td>\n",
       "      <td>0.5</td>\n",
       "      <td>412</td>\n",
       "      <td>7</td>\n",
       "      <td>14.00</td>\n",
       "    </tr>\n",
       "    <tr>\n",
       "      <th>13</th>\n",
       "      <td>6.5</td>\n",
       "      <td>0.5</td>\n",
       "      <td>415</td>\n",
       "      <td>3</td>\n",
       "      <td>6.00</td>\n",
       "    </tr>\n",
       "    <tr>\n",
       "      <th>14</th>\n",
       "      <td>7.0</td>\n",
       "      <td>0.5</td>\n",
       "      <td>420</td>\n",
       "      <td>5</td>\n",
       "      <td>10.00</td>\n",
       "    </tr>\n",
       "    <tr>\n",
       "      <th>15</th>\n",
       "      <td>7.5</td>\n",
       "      <td>0.5</td>\n",
       "      <td>425</td>\n",
       "      <td>5</td>\n",
       "      <td>10.00</td>\n",
       "    </tr>\n",
       "    <tr>\n",
       "      <th>16</th>\n",
       "      <td>8.0</td>\n",
       "      <td>0.5</td>\n",
       "      <td>435</td>\n",
       "      <td>10</td>\n",
       "      <td>20.00</td>\n",
       "    </tr>\n",
       "    <tr>\n",
       "      <th>17</th>\n",
       "      <td>8.5</td>\n",
       "      <td>0.5</td>\n",
       "      <td>438</td>\n",
       "      <td>3</td>\n",
       "      <td>6.00</td>\n",
       "    </tr>\n",
       "    <tr>\n",
       "      <th>18</th>\n",
       "      <td>9.0</td>\n",
       "      <td>0.5</td>\n",
       "      <td>444</td>\n",
       "      <td>6</td>\n",
       "      <td>12.00</td>\n",
       "    </tr>\n",
       "    <tr>\n",
       "      <th>19</th>\n",
       "      <td>9.5</td>\n",
       "      <td>0.5</td>\n",
       "      <td>455</td>\n",
       "      <td>11</td>\n",
       "      <td>22.00</td>\n",
       "    </tr>\n",
       "    <tr>\n",
       "      <th>20</th>\n",
       "      <td>10.0</td>\n",
       "      <td>0.5</td>\n",
       "      <td>465</td>\n",
       "      <td>10</td>\n",
       "      <td>20.00</td>\n",
       "    </tr>\n",
       "    <tr>\n",
       "      <th>21</th>\n",
       "      <td>10.5</td>\n",
       "      <td>0.5</td>\n",
       "      <td>472</td>\n",
       "      <td>7</td>\n",
       "      <td>14.00</td>\n",
       "    </tr>\n",
       "    <tr>\n",
       "      <th>22</th>\n",
       "      <td>11.0</td>\n",
       "      <td>0.5</td>\n",
       "      <td>479</td>\n",
       "      <td>7</td>\n",
       "      <td>14.00</td>\n",
       "    </tr>\n",
       "    <tr>\n",
       "      <th>23</th>\n",
       "      <td>11.5</td>\n",
       "      <td>0.5</td>\n",
       "      <td>482</td>\n",
       "      <td>3</td>\n",
       "      <td>6.00</td>\n",
       "    </tr>\n",
       "    <tr>\n",
       "      <th>24</th>\n",
       "      <td>12.0</td>\n",
       "      <td>0.5</td>\n",
       "      <td>544</td>\n",
       "      <td>62</td>\n",
       "      <td>124.00</td>\n",
       "    </tr>\n",
       "    <tr>\n",
       "      <th>25</th>\n",
       "      <td>12.3</td>\n",
       "      <td>0.3</td>\n",
       "      <td>646</td>\n",
       "      <td>102</td>\n",
       "      <td>340.00</td>\n",
       "    </tr>\n",
       "    <tr>\n",
       "      <th>26</th>\n",
       "      <td>12.5</td>\n",
       "      <td>0.2</td>\n",
       "      <td>648</td>\n",
       "      <td>2</td>\n",
       "      <td>10.00</td>\n",
       "    </tr>\n",
       "    <tr>\n",
       "      <th>27</th>\n",
       "      <td>12.8</td>\n",
       "      <td>0.3</td>\n",
       "      <td>654</td>\n",
       "      <td>6</td>\n",
       "      <td>20.00</td>\n",
       "    </tr>\n",
       "    <tr>\n",
       "      <th>28</th>\n",
       "      <td>13.0</td>\n",
       "      <td>0.2</td>\n",
       "      <td>682</td>\n",
       "      <td>28</td>\n",
       "      <td>140.00</td>\n",
       "    </tr>\n",
       "    <tr>\n",
       "      <th>29</th>\n",
       "      <td>13.5</td>\n",
       "      <td>0.5</td>\n",
       "      <td>705</td>\n",
       "      <td>23</td>\n",
       "      <td>46.00</td>\n",
       "    </tr>\n",
       "    <tr>\n",
       "      <th>30</th>\n",
       "      <td>13.8</td>\n",
       "      <td>0.3</td>\n",
       "      <td>709</td>\n",
       "      <td>4</td>\n",
       "      <td>13.33</td>\n",
       "    </tr>\n",
       "    <tr>\n",
       "      <th>31</th>\n",
       "      <td>14.0</td>\n",
       "      <td>0.2</td>\n",
       "      <td>717</td>\n",
       "      <td>8</td>\n",
       "      <td>40.00</td>\n",
       "    </tr>\n",
       "    <tr>\n",
       "      <th>32</th>\n",
       "      <td>14.5</td>\n",
       "      <td>0.5</td>\n",
       "      <td>723</td>\n",
       "      <td>6</td>\n",
       "      <td>12.00</td>\n",
       "    </tr>\n",
       "    <tr>\n",
       "      <th>33</th>\n",
       "      <td>15.0</td>\n",
       "      <td>0.5</td>\n",
       "      <td>728</td>\n",
       "      <td>5</td>\n",
       "      <td>10.00</td>\n",
       "    </tr>\n",
       "  </tbody>\n",
       "</table>\n",
       "</div>"
      ],
      "text/plain": [
       "    V (mL)  dV (mL)  E (mV)  dE (mV)  dE_by_dV (mV/mL)\n",
       "1      0.5      0.5     341       37             74.00\n",
       "2      1.0      0.5     348        7             14.00\n",
       "3      1.5      0.5     361       13             26.00\n",
       "4      2.0      0.5     371       10             20.00\n",
       "5      2.5      0.5     374        3              6.00\n",
       "6      3.0      0.5     380        6             12.00\n",
       "7      3.5      0.5     384        4              8.00\n",
       "8      4.0      0.5     389        5             10.00\n",
       "9      4.5      0.5     396        7             14.00\n",
       "10     5.0      0.5     402        6             12.00\n",
       "11     5.5      0.5     405        3              6.00\n",
       "12     6.0      0.5     412        7             14.00\n",
       "13     6.5      0.5     415        3              6.00\n",
       "14     7.0      0.5     420        5             10.00\n",
       "15     7.5      0.5     425        5             10.00\n",
       "16     8.0      0.5     435       10             20.00\n",
       "17     8.5      0.5     438        3              6.00\n",
       "18     9.0      0.5     444        6             12.00\n",
       "19     9.5      0.5     455       11             22.00\n",
       "20    10.0      0.5     465       10             20.00\n",
       "21    10.5      0.5     472        7             14.00\n",
       "22    11.0      0.5     479        7             14.00\n",
       "23    11.5      0.5     482        3              6.00\n",
       "24    12.0      0.5     544       62            124.00\n",
       "25    12.3      0.3     646      102            340.00\n",
       "26    12.5      0.2     648        2             10.00\n",
       "27    12.8      0.3     654        6             20.00\n",
       "28    13.0      0.2     682       28            140.00\n",
       "29    13.5      0.5     705       23             46.00\n",
       "30    13.8      0.3     709        4             13.33\n",
       "31    14.0      0.2     717        8             40.00\n",
       "32    14.5      0.5     723        6             12.00\n",
       "33    15.0      0.5     728        5             10.00"
      ]
     },
     "execution_count": 82,
     "metadata": {},
     "output_type": "execute_result"
    }
   ],
   "source": [
    "df_dE=pd.DataFrame()\n",
    "df_dE[\"V (mL)\"]=df_pot[\"volume of K2Cr2O7 (mL)\"][1:]\n",
    "df_dE[\"dV (mL)\"]=dV\n",
    "df_dE[\"E (mV)\"]=df_pot[\"potential (mV)\"][1:]\n",
    "df_dE[\"dE (mV)\"]=dE\n",
    "df_dE[\"dE_by_dV (mV/mL)\"]=dE_by_dV\n",
    "df_dE"
   ]
  },
  {
   "cell_type": "markdown",
   "id": "41f92f52",
   "metadata": {},
   "source": [
    "### Finding the end point of the titration\n",
    "1. Now, we would like to find out where dE/dV is maximum. \n",
    "2. The volume corresponding to it is the end point."
   ]
  },
  {
   "cell_type": "code",
   "execution_count": 83,
   "id": "be5a9a78",
   "metadata": {},
   "outputs": [
    {
     "data": {
      "text/plain": [
       "12.3"
      ]
     },
     "execution_count": 83,
     "metadata": {},
     "output_type": "execute_result"
    }
   ],
   "source": [
    "der_max=df_dE[df_dE[\"dE_by_dV (mV/mL)\"]==df_dE[\"dE_by_dV (mV/mL)\"].max()]\n",
    "endpoint=der_max[\"V (mL)\"]\n",
    "endpoint=float(endpoint)\n",
    "der_max\n",
    "endpoint"
   ]
  },
  {
   "cell_type": "code",
   "execution_count": 84,
   "id": "d183d1d6",
   "metadata": {},
   "outputs": [
    {
     "data": {
      "image/png": "[encoded data removed]",
      "text/plain": [
       "<Figure size 360x360 with 1 Axes>"
      ]
     },
     "metadata": {
      "needs_background": "light"
     },
     "output_type": "display_data"
    }
   ],
   "source": [
    "fig, ax = plt.subplots(nrows=1,ncols=1,figsize=(5,5))"
   ]
  },
  {
   "cell_type": "markdown",
   "id": "23e61c3a",
   "metadata": {},
   "source": [
    "### Plotting dE/dV versus volume of potassium dichromate"
   ]
  },
  {
   "cell_type": "code",
   "execution_count": 85,
   "id": "24efe0d6",
   "metadata": {},
   "outputs": [
    {
     "data": {
      "image/png": "[encoded data removed]",
      "text/plain": [
       "<Figure size 360x360 with 1 Axes>"
      ]
     },
     "execution_count": 85,
     "metadata": {},
     "output_type": "execute_result"
    }
   ],
   "source": [
    "x1=df_dE[\"V (mL)\"]\n",
    "y1=df_dE[\"dE_by_dV (mV/mL)\"]\n",
    "ax.plot(x1,y1,color=\"black\",marker=\"o\")\n",
    "fig"
   ]
  },
  {
   "cell_type": "code",
   "execution_count": 86,
   "id": "2545fea5",
   "metadata": {},
   "outputs": [
    {
     "data": {
      "image/png": "[encoded data removed]",
      "text/plain": [
       "<Figure size 360x360 with 1 Axes>"
      ]
     },
     "execution_count": 86,
     "metadata": {},
     "output_type": "execute_result"
    }
   ],
   "source": [
    "ax.set_xlim(0,17)\n",
    "ax.set_ylim(0,350)\n",
    "ax.set_xlabel('Volume of potassium dichromate (mL)')\n",
    "ax.set_ylabel(\"dE/dV (mV/mL)\")\n",
    "fig"
   ]
  },
  {
   "cell_type": "code",
   "execution_count": 87,
   "id": "137502c8",
   "metadata": {},
   "outputs": [
    {
     "data": {
      "image/png": "[encoded data removed]",
      "text/plain": [
       "<Figure size 360x360 with 1 Axes>"
      ]
     },
     "execution_count": 87,
     "metadata": {},
     "output_type": "execute_result"
    }
   ],
   "source": [
    "ax.xaxis.set_major_formatter(formatter('%.0f'))\n",
    "ax.yaxis.set_major_formatter(formatter('%.0f'))\n",
    "\n",
    "ax.xaxis.set_minor_locator(ticker.MultipleLocator(0.5))\n",
    "ax.yaxis.set_minor_locator(ticker.MultipleLocator(25))\n",
    "fig"
   ]
  },
  {
   "cell_type": "code",
   "execution_count": 88,
   "id": "9f4c16e5",
   "metadata": {},
   "outputs": [],
   "source": [
    "fig.tight_layout()\n",
    "fig.savefig('dE.pdf',dpi=600)"
   ]
  },
  {
   "cell_type": "code",
   "execution_count": null,
   "id": "26391ad5",
   "metadata": {},
   "outputs": [],
   "source": []
  }
 ],
 "metadata": {
  "kernelspec": {
   "display_name": "Python 3 (ipykernel)",
   "language": "python",
   "name": "python3"
  },
  "language_info": {
   "codemirror_mode": {
    "name": "ipython",
    "version": 3
   },
   "file_extension": ".py",
   "mimetype": "text/x-python",
   "name": "python",
   "nbconvert_exporter": "python",
   "pygments_lexer": "ipython3",
   "version": "3.9.12"
  }
 },
 "nbformat": 4,
 "nbformat_minor": 5
}
