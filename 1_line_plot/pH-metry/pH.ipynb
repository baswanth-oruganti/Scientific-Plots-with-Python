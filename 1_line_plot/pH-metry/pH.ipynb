{
 "cells": [
  {
   "cell_type": "markdown",
   "id": "f36dd892",
   "metadata": {},
   "source": [
    "### First, we have to import all the required modules such as numpy, pandas and matplotlib: \n",
    "1. numpy for performing vector and matrix operations, \n",
    "2. pandas for data analysis\n",
    "3. matplotlib for data visualization\n",
    "4. FontProperties: A class for storing and manipulating font properties."
   ]
  },
  {
   "cell_type": "code",
   "execution_count": 16,
   "id": "0e49e28c",
   "metadata": {},
   "outputs": [],
   "source": [
    "import numpy as np\n",
    "import pandas as pd\n",
    "import matplotlib.pyplot as plt\n",
    "import matplotlib.ticker as ticker\n",
    "from matplotlib.ticker import FormatStrFormatter as formatter"
   ]
  },
  {
   "cell_type": "code",
   "execution_count": 17,
   "id": "9823d426",
   "metadata": {},
   "outputs": [],
   "source": [
    "from matplotlib.font_manager import FontProperties as Font\n",
    "font = Font()\n",
    "font.set_name('Arial')\n",
    "%matplotlib inline"
   ]
  },
  {
   "cell_type": "markdown",
   "id": "c7306516",
   "metadata": {},
   "source": [
    "#### Experimental data written into a file named \"ph.txt\" with the columns named \"volume_NaOH(mL)\" and \"pH\". The columns can be seperated by one or more spaces\n",
    "1. We load this file \"ph.txt' into a pandas dataframe, which is like a excel sheet"
   ]
  },
  {
   "cell_type": "code",
   "execution_count": 18,
   "id": "bb66d027",
   "metadata": {},
   "outputs": [
    {
     "data": {
      "text/html": [
       "<div>\n",
       "<style scoped>\n",
       "    .dataframe tbody tr th:only-of-type {\n",
       "        vertical-align: middle;\n",
       "    }\n",
       "\n",
       "    .dataframe tbody tr th {\n",
       "        vertical-align: top;\n",
       "    }\n",
       "\n",
       "    .dataframe thead th {\n",
       "        text-align: right;\n",
       "    }\n",
       "</style>\n",
       "<table border=\"1\" class=\"dataframe\">\n",
       "  <thead>\n",
       "    <tr style=\"text-align: right;\">\n",
       "      <th></th>\n",
       "      <th>volume_NaOH(mL)</th>\n",
       "      <th>pH</th>\n",
       "    </tr>\n",
       "  </thead>\n",
       "  <tbody>\n",
       "    <tr>\n",
       "      <th>0</th>\n",
       "      <td>0.0</td>\n",
       "      <td>3.16</td>\n",
       "    </tr>\n",
       "    <tr>\n",
       "      <th>1</th>\n",
       "      <td>1.0</td>\n",
       "      <td>3.22</td>\n",
       "    </tr>\n",
       "    <tr>\n",
       "      <th>2</th>\n",
       "      <td>2.0</td>\n",
       "      <td>3.29</td>\n",
       "    </tr>\n",
       "    <tr>\n",
       "      <th>3</th>\n",
       "      <td>3.0</td>\n",
       "      <td>3.35</td>\n",
       "    </tr>\n",
       "    <tr>\n",
       "      <th>4</th>\n",
       "      <td>4.0</td>\n",
       "      <td>3.42</td>\n",
       "    </tr>\n",
       "    <tr>\n",
       "      <th>5</th>\n",
       "      <td>5.0</td>\n",
       "      <td>3.50</td>\n",
       "    </tr>\n",
       "    <tr>\n",
       "      <th>6</th>\n",
       "      <td>6.0</td>\n",
       "      <td>3.65</td>\n",
       "    </tr>\n",
       "    <tr>\n",
       "      <th>7</th>\n",
       "      <td>7.5</td>\n",
       "      <td>5.41</td>\n",
       "    </tr>\n",
       "    <tr>\n",
       "      <th>8</th>\n",
       "      <td>8.0</td>\n",
       "      <td>6.24</td>\n",
       "    </tr>\n",
       "    <tr>\n",
       "      <th>9</th>\n",
       "      <td>8.3</td>\n",
       "      <td>6.81</td>\n",
       "    </tr>\n",
       "    <tr>\n",
       "      <th>10</th>\n",
       "      <td>8.5</td>\n",
       "      <td>7.46</td>\n",
       "    </tr>\n",
       "    <tr>\n",
       "      <th>11</th>\n",
       "      <td>8.8</td>\n",
       "      <td>8.78</td>\n",
       "    </tr>\n",
       "    <tr>\n",
       "      <th>12</th>\n",
       "      <td>9.0</td>\n",
       "      <td>9.07</td>\n",
       "    </tr>\n",
       "    <tr>\n",
       "      <th>13</th>\n",
       "      <td>9.2</td>\n",
       "      <td>9.30</td>\n",
       "    </tr>\n",
       "    <tr>\n",
       "      <th>14</th>\n",
       "      <td>9.5</td>\n",
       "      <td>9.56</td>\n",
       "    </tr>\n",
       "    <tr>\n",
       "      <th>15</th>\n",
       "      <td>10.0</td>\n",
       "      <td>9.97</td>\n",
       "    </tr>\n",
       "    <tr>\n",
       "      <th>16</th>\n",
       "      <td>11.0</td>\n",
       "      <td>10.32</td>\n",
       "    </tr>\n",
       "    <tr>\n",
       "      <th>17</th>\n",
       "      <td>12.0</td>\n",
       "      <td>10.50</td>\n",
       "    </tr>\n",
       "    <tr>\n",
       "      <th>18</th>\n",
       "      <td>13.0</td>\n",
       "      <td>10.66</td>\n",
       "    </tr>\n",
       "    <tr>\n",
       "      <th>19</th>\n",
       "      <td>14.0</td>\n",
       "      <td>10.77</td>\n",
       "    </tr>\n",
       "    <tr>\n",
       "      <th>20</th>\n",
       "      <td>15.0</td>\n",
       "      <td>10.84</td>\n",
       "    </tr>\n",
       "    <tr>\n",
       "      <th>21</th>\n",
       "      <td>16.0</td>\n",
       "      <td>10.93</td>\n",
       "    </tr>\n",
       "  </tbody>\n",
       "</table>\n",
       "</div>"
      ],
      "text/plain": [
       "    volume_NaOH(mL)     pH\n",
       "0               0.0   3.16\n",
       "1               1.0   3.22\n",
       "2               2.0   3.29\n",
       "3               3.0   3.35\n",
       "4               4.0   3.42\n",
       "5               5.0   3.50\n",
       "6               6.0   3.65\n",
       "7               7.5   5.41\n",
       "8               8.0   6.24\n",
       "9               8.3   6.81\n",
       "10              8.5   7.46\n",
       "11              8.8   8.78\n",
       "12              9.0   9.07\n",
       "13              9.2   9.30\n",
       "14              9.5   9.56\n",
       "15             10.0   9.97\n",
       "16             11.0  10.32\n",
       "17             12.0  10.50\n",
       "18             13.0  10.66\n",
       "19             14.0  10.77\n",
       "20             15.0  10.84\n",
       "21             16.0  10.93"
      ]
     },
     "execution_count": 18,
     "metadata": {},
     "output_type": "execute_result"
    }
   ],
   "source": [
    "df_ph=pd.read_csv(\"ph.csv\")\n",
    "df_ph # printing the dataframe"
   ]
  },
  {
   "cell_type": "markdown",
   "id": "890d3cec",
   "metadata": {},
   "source": [
    "### Now we are ready to plot. So, we will first create a frame for plot with size 5 inches width and 5 inches height"
   ]
  },
  {
   "cell_type": "code",
   "execution_count": 19,
   "id": "aebb9d21",
   "metadata": {},
   "outputs": [
    {
     "data": {
      "image/png": "[encoded data removed]",
      "text/plain": [
       "<Figure size 360x360 with 1 Axes>"
      ]
     },
     "metadata": {
      "needs_background": "light"
     },
     "output_type": "display_data"
    }
   ],
   "source": [
    "fig, ax = plt.subplots(nrows=1,ncols=1,figsize=(5,5))"
   ]
  },
  {
   "cell_type": "markdown",
   "id": "d549a5f4",
   "metadata": {},
   "source": [
    "### Define X and Y values before Plotting\n",
    "1. Here x values represent \"volume of NaOH added\" and y values are \"pH\" values\n",
    "2. Plot y versus x using ax.plot command"
   ]
  },
  {
   "cell_type": "code",
   "execution_count": 20,
   "id": "0b0ebf85",
   "metadata": {},
   "outputs": [
    {
     "data": {
      "image/png": "[encoded data removed]",
      "text/plain": [
       "<Figure size 360x360 with 1 Axes>"
      ]
     },
     "execution_count": 20,
     "metadata": {},
     "output_type": "execute_result"
    }
   ],
   "source": [
    "x=df_ph[\"volume_NaOH(mL)\"]\n",
    "y=df_ph[\"pH\"]\n",
    "ax.plot(x,y,color=\"black\",marker=\"o\")\n",
    "fig"
   ]
  },
  {
   "cell_type": "markdown",
   "id": "6aced023",
   "metadata": {},
   "source": [
    "### Axes limits and labels\n",
    "1. Define the axes limits using set_xlim and set_ylim functions\n",
    "2. label the axes using set_xlabel, set_ylabel functions"
   ]
  },
  {
   "cell_type": "code",
   "execution_count": 21,
   "id": "30362dac",
   "metadata": {},
   "outputs": [
    {
     "data": {
      "image/png": "[encoded data removed]",
      "text/plain": [
       "<Figure size 360x360 with 1 Axes>"
      ]
     },
     "execution_count": 21,
     "metadata": {},
     "output_type": "execute_result"
    }
   ],
   "source": [
    "ax.set_xlim(0,17)\n",
    "ax.set_ylim(2,12)\n",
    "ax.set_xlabel('Volume of NaOH added (mL)')\n",
    "ax.set_ylabel(\"pH\")\n",
    "fig"
   ]
  },
  {
   "cell_type": "markdown",
   "id": "bee69033",
   "metadata": {},
   "source": [
    "### Number Formats and Minor Tick Labels\n",
    "1. Next, we want to have 1 decimal place in the X-axis values and zero decimal places in the Y-axis values. For this purpose we use formatter function.\n",
    "2. We would like to have minor tick lables in the plot. For this purpose, we use set_minor_locator function."
   ]
  },
  {
   "cell_type": "code",
   "execution_count": 22,
   "id": "510345ad",
   "metadata": {},
   "outputs": [
    {
     "data": {
      "image/png": "[encoded data removed]",
      "text/plain": [
       "<Figure size 360x360 with 1 Axes>"
      ]
     },
     "execution_count": 22,
     "metadata": {},
     "output_type": "execute_result"
    }
   ],
   "source": [
    "ax.xaxis.set_major_formatter(formatter('%.1f'))\n",
    "ax.yaxis.set_major_formatter(formatter('%.0f'))\n",
    "\n",
    "ax.xaxis.set_minor_locator(ticker.MultipleLocator(1.0))\n",
    "ax.yaxis.set_minor_locator(ticker.MultipleLocator(1.0))\n",
    "fig"
   ]
  },
  {
   "cell_type": "markdown",
   "id": "6f19d77b",
   "metadata": {},
   "source": [
    "### Figure layout and saving"
   ]
  },
  {
   "cell_type": "code",
   "execution_count": 23,
   "id": "ae586eaf",
   "metadata": {},
   "outputs": [],
   "source": [
    "fig.tight_layout()\n",
    "fig.savefig('pH.pdf',dpi=600)"
   ]
  },
  {
   "cell_type": "markdown",
   "id": "d6113e92",
   "metadata": {},
   "source": [
    "### Now to find out end point, we would like to calculate derivative of pH with respect to volume\n",
    "1. For calculating dph and dv we use np.diff() functions\n",
    "2. Then we calculate dph/dv"
   ]
  },
  {
   "cell_type": "code",
   "execution_count": 28,
   "id": "ada5b842",
   "metadata": {},
   "outputs": [
    {
     "data": {
      "text/plain": [
       "array([0.06, 0.07, 0.06, 0.07, 0.08, 0.15, 1.17, 1.66, 1.9 , 3.25, 4.4 ,\n",
       "       1.45, 1.15, 0.87, 0.82, 0.35, 0.18, 0.16, 0.11, 0.07, 0.09])"
      ]
     },
     "execution_count": 28,
     "metadata": {},
     "output_type": "execute_result"
    }
   ],
   "source": [
    "dph=np.diff(y)\n",
    "dv=np.diff(x)\n",
    "dph_by_dv=(dph/dv).round(2)\n",
    "dph_by_dv"
   ]
  },
  {
   "cell_type": "markdown",
   "id": "f5878cbf",
   "metadata": {},
   "source": [
    "### Let us create a dataframe to store dv, dph and dph/dv values"
   ]
  },
  {
   "cell_type": "code",
   "execution_count": 29,
   "id": "92ddb351",
   "metadata": {},
   "outputs": [
    {
     "data": {
      "text/html": [
       "<div>\n",
       "<style scoped>\n",
       "    .dataframe tbody tr th:only-of-type {\n",
       "        vertical-align: middle;\n",
       "    }\n",
       "\n",
       "    .dataframe tbody tr th {\n",
       "        vertical-align: top;\n",
       "    }\n",
       "\n",
       "    .dataframe thead th {\n",
       "        text-align: right;\n",
       "    }\n",
       "</style>\n",
       "<table border=\"1\" class=\"dataframe\">\n",
       "  <thead>\n",
       "    <tr style=\"text-align: right;\">\n",
       "      <th></th>\n",
       "      <th>volume_NaOH(mL)</th>\n",
       "      <th>dv</th>\n",
       "      <th>dph</th>\n",
       "      <th>dph_by_dv</th>\n",
       "    </tr>\n",
       "  </thead>\n",
       "  <tbody>\n",
       "    <tr>\n",
       "      <th>1</th>\n",
       "      <td>1.0</td>\n",
       "      <td>1.0</td>\n",
       "      <td>0.06</td>\n",
       "      <td>0.06</td>\n",
       "    </tr>\n",
       "    <tr>\n",
       "      <th>2</th>\n",
       "      <td>2.0</td>\n",
       "      <td>1.0</td>\n",
       "      <td>0.07</td>\n",
       "      <td>0.07</td>\n",
       "    </tr>\n",
       "    <tr>\n",
       "      <th>3</th>\n",
       "      <td>3.0</td>\n",
       "      <td>1.0</td>\n",
       "      <td>0.06</td>\n",
       "      <td>0.06</td>\n",
       "    </tr>\n",
       "    <tr>\n",
       "      <th>4</th>\n",
       "      <td>4.0</td>\n",
       "      <td>1.0</td>\n",
       "      <td>0.07</td>\n",
       "      <td>0.07</td>\n",
       "    </tr>\n",
       "    <tr>\n",
       "      <th>5</th>\n",
       "      <td>5.0</td>\n",
       "      <td>1.0</td>\n",
       "      <td>0.08</td>\n",
       "      <td>0.08</td>\n",
       "    </tr>\n",
       "    <tr>\n",
       "      <th>6</th>\n",
       "      <td>6.0</td>\n",
       "      <td>1.0</td>\n",
       "      <td>0.15</td>\n",
       "      <td>0.15</td>\n",
       "    </tr>\n",
       "    <tr>\n",
       "      <th>7</th>\n",
       "      <td>7.5</td>\n",
       "      <td>1.5</td>\n",
       "      <td>1.76</td>\n",
       "      <td>1.17</td>\n",
       "    </tr>\n",
       "    <tr>\n",
       "      <th>8</th>\n",
       "      <td>8.0</td>\n",
       "      <td>0.5</td>\n",
       "      <td>0.83</td>\n",
       "      <td>1.66</td>\n",
       "    </tr>\n",
       "    <tr>\n",
       "      <th>9</th>\n",
       "      <td>8.3</td>\n",
       "      <td>0.3</td>\n",
       "      <td>0.57</td>\n",
       "      <td>1.90</td>\n",
       "    </tr>\n",
       "    <tr>\n",
       "      <th>10</th>\n",
       "      <td>8.5</td>\n",
       "      <td>0.2</td>\n",
       "      <td>0.65</td>\n",
       "      <td>3.25</td>\n",
       "    </tr>\n",
       "    <tr>\n",
       "      <th>11</th>\n",
       "      <td>8.8</td>\n",
       "      <td>0.3</td>\n",
       "      <td>1.32</td>\n",
       "      <td>4.40</td>\n",
       "    </tr>\n",
       "    <tr>\n",
       "      <th>12</th>\n",
       "      <td>9.0</td>\n",
       "      <td>0.2</td>\n",
       "      <td>0.29</td>\n",
       "      <td>1.45</td>\n",
       "    </tr>\n",
       "    <tr>\n",
       "      <th>13</th>\n",
       "      <td>9.2</td>\n",
       "      <td>0.2</td>\n",
       "      <td>0.23</td>\n",
       "      <td>1.15</td>\n",
       "    </tr>\n",
       "    <tr>\n",
       "      <th>14</th>\n",
       "      <td>9.5</td>\n",
       "      <td>0.3</td>\n",
       "      <td>0.26</td>\n",
       "      <td>0.87</td>\n",
       "    </tr>\n",
       "    <tr>\n",
       "      <th>15</th>\n",
       "      <td>10.0</td>\n",
       "      <td>0.5</td>\n",
       "      <td>0.41</td>\n",
       "      <td>0.82</td>\n",
       "    </tr>\n",
       "    <tr>\n",
       "      <th>16</th>\n",
       "      <td>11.0</td>\n",
       "      <td>1.0</td>\n",
       "      <td>0.35</td>\n",
       "      <td>0.35</td>\n",
       "    </tr>\n",
       "    <tr>\n",
       "      <th>17</th>\n",
       "      <td>12.0</td>\n",
       "      <td>1.0</td>\n",
       "      <td>0.18</td>\n",
       "      <td>0.18</td>\n",
       "    </tr>\n",
       "    <tr>\n",
       "      <th>18</th>\n",
       "      <td>13.0</td>\n",
       "      <td>1.0</td>\n",
       "      <td>0.16</td>\n",
       "      <td>0.16</td>\n",
       "    </tr>\n",
       "    <tr>\n",
       "      <th>19</th>\n",
       "      <td>14.0</td>\n",
       "      <td>1.0</td>\n",
       "      <td>0.11</td>\n",
       "      <td>0.11</td>\n",
       "    </tr>\n",
       "    <tr>\n",
       "      <th>20</th>\n",
       "      <td>15.0</td>\n",
       "      <td>1.0</td>\n",
       "      <td>0.07</td>\n",
       "      <td>0.07</td>\n",
       "    </tr>\n",
       "    <tr>\n",
       "      <th>21</th>\n",
       "      <td>16.0</td>\n",
       "      <td>1.0</td>\n",
       "      <td>0.09</td>\n",
       "      <td>0.09</td>\n",
       "    </tr>\n",
       "  </tbody>\n",
       "</table>\n",
       "</div>"
      ],
      "text/plain": [
       "    volume_NaOH(mL)   dv   dph  dph_by_dv\n",
       "1               1.0  1.0  0.06       0.06\n",
       "2               2.0  1.0  0.07       0.07\n",
       "3               3.0  1.0  0.06       0.06\n",
       "4               4.0  1.0  0.07       0.07\n",
       "5               5.0  1.0  0.08       0.08\n",
       "6               6.0  1.0  0.15       0.15\n",
       "7               7.5  1.5  1.76       1.17\n",
       "8               8.0  0.5  0.83       1.66\n",
       "9               8.3  0.3  0.57       1.90\n",
       "10              8.5  0.2  0.65       3.25\n",
       "11              8.8  0.3  1.32       4.40\n",
       "12              9.0  0.2  0.29       1.45\n",
       "13              9.2  0.2  0.23       1.15\n",
       "14              9.5  0.3  0.26       0.87\n",
       "15             10.0  0.5  0.41       0.82\n",
       "16             11.0  1.0  0.35       0.35\n",
       "17             12.0  1.0  0.18       0.18\n",
       "18             13.0  1.0  0.16       0.16\n",
       "19             14.0  1.0  0.11       0.11\n",
       "20             15.0  1.0  0.07       0.07\n",
       "21             16.0  1.0  0.09       0.09"
      ]
     },
     "execution_count": 29,
     "metadata": {},
     "output_type": "execute_result"
    }
   ],
   "source": [
    "df_dph=pd.DataFrame()\n",
    "df_dph[\"volume_NaOH(mL)\"]=df_ph[\"volume_NaOH(mL)\"][1:]\n",
    "df_dph[\"dv\"]=dv\n",
    "df_dph[\"dph\"]=dph\n",
    "df_dph[\"dph_by_dv\"]=dph_by_dv\n",
    "df_dph"
   ]
  },
  {
   "cell_type": "markdown",
   "id": "41f92f52",
   "metadata": {},
   "source": [
    "### Finding the end point of the titration\n",
    "1. Now, we would like to find out where dph/dv is maximum. \n",
    "2. The volume corresponding to it is the end point."
   ]
  },
  {
   "cell_type": "code",
   "execution_count": 31,
   "id": "d183d1d6",
   "metadata": {},
   "outputs": [
    {
     "data": {
      "text/plain": [
       "8.8"
      ]
     },
     "execution_count": 31,
     "metadata": {},
     "output_type": "execute_result"
    }
   ],
   "source": [
    "der_max=df_dph[df_dph[\"dph_by_dv\"]==df_dph[\"dph_by_dv\"].max()]\n",
    "endpoint=der_max[\"volume_NaOH(mL)\"]\n",
    "endpoint=float(endpoint)\n",
    "der_max\n",
    "endpoint"
   ]
  },
  {
   "cell_type": "markdown",
   "id": "23e61c3a",
   "metadata": {},
   "source": [
    "### Finally, we calculate the conc. of HCl solution"
   ]
  },
  {
   "cell_type": "code",
   "execution_count": 32,
   "id": "24efe0d6",
   "metadata": {},
   "outputs": [
    {
     "data": {
      "text/plain": [
       "0.09"
      ]
     },
     "execution_count": 32,
     "metadata": {},
     "output_type": "execute_result"
    }
   ],
   "source": [
    "v1=10 #mL change it to 20 mL if you take 20 mL HCl\n",
    "# n1 is Normality of HCl\n",
    "v2=endpoint #mL volume of NaOH at the end point\n",
    "n2=0.1 # Normality of NaOH\n",
    "\n",
    "n1=n2*v2/v1\n",
    "conc_HCl=round(n1,2)\n",
    "conc_HCl"
   ]
  },
  {
   "cell_type": "code",
   "execution_count": null,
   "id": "9f4c16e5",
   "metadata": {},
   "outputs": [],
   "source": []
  }
 ],
 "metadata": {
  "kernelspec": {
   "display_name": "Python 3 (ipykernel)",
   "language": "python",
   "name": "python3"
  },
  "language_info": {
   "codemirror_mode": {
    "name": "ipython",
    "version": 3
   },
   "file_extension": ".py",
   "mimetype": "text/x-python",
   "name": "python",
   "nbconvert_exporter": "python",
   "pygments_lexer": "ipython3",
   "version": "3.9.12"
  }
 },
 "nbformat": 4,
 "nbformat_minor": 5
}
